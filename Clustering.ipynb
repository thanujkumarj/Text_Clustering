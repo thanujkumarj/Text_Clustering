{
 "cells": [
  {
   "cell_type": "code",
   "execution_count": 14,
   "metadata": {
    "collapsed": true
   },
   "outputs": [],
   "source": [
    "import numpy as np\n",
    "import random\n",
    "from collections import defaultdict\n",
    "from scipy.sparse import csr_matrix\n",
    "from sklearn.utils import shuffle\n",
    "from sklearn.metrics import calinski_harabaz_score"
   ]
  },
  {
   "cell_type": "code",
   "execution_count": 15,
   "metadata": {
    "collapsed": true
   },
   "outputs": [],
   "source": [
    "def csr_read(fname, ftype=\"csr\", nidx=1):\n",
    "    r\"\"\" \n",
    "        Read CSR matrix from a text file. \n",
    "        \n",
    "        \\param fname File name for CSR/CLU matrix\n",
    "        \\param ftype Input format. Acceptable formats are:\n",
    "            - csr - Compressed sparse row\n",
    "            - clu - Cluto format, i.e., CSR + header row with \"nrows ncols nnz\"\n",
    "        \\param nidx Indexing type in CSR file. What does numbering of feature IDs start with?\n",
    "    \"\"\"\n",
    "    \n",
    "    with open(fname) as f:\n",
    "        lines = f.readlines()\n",
    "    \n",
    "    if ftype == \"clu\":\n",
    "        p = lines[0].split()\n",
    "        nrows = int(p[0])\n",
    "        ncols = int(p[1])\n",
    "        nnz = long(p[2])\n",
    "        lines = lines[1:]\n",
    "        assert(len(lines) == nrows)\n",
    "    elif ftype == \"csr\":\n",
    "        nrows = len(lines)\n",
    "        ncols = 0 \n",
    "        nnz = 0 \n",
    "        for i in xrange(nrows):\n",
    "            p = lines[i].split()\n",
    "            if len(p) % 2 != 0:\n",
    "                raise ValueError(\"Invalid CSR matrix. Row %d contains %d numbers.\" % (i, len(p)))\n",
    "            nnz += len(p)/2\n",
    "            for j in xrange(0, len(p), 2): \n",
    "                cid = int(p[j]) - nidx\n",
    "                if cid+1 > ncols:\n",
    "                    ncols = cid+1\n",
    "    else:\n",
    "        raise ValueError(\"Invalid sparse matrix ftype '%s'.\" % ftype)\n",
    "    val = np.zeros(nnz, dtype=np.float)\n",
    "    ind = np.zeros(nnz, dtype=np.int)\n",
    "    ptr = np.zeros(nrows+1, dtype=np.long)\n",
    "    n = 0 \n",
    "    for i in xrange(nrows):\n",
    "        p = lines[i].split()\n",
    "        for j in xrange(0, len(p), 2): \n",
    "            ind[n] = int(p[j]) - nidx\n",
    "            val[n] = float(p[j+1])\n",
    "            n += 1\n",
    "        ptr[i+1] = n \n",
    "    \n",
    "    assert(n == nnz)\n",
    "    \n",
    "    return csr_matrix((val, ind, ptr), shape=(nrows, ncols), dtype=np.float)"
   ]
  },
  {
   "cell_type": "code",
   "execution_count": 16,
   "metadata": {
    "collapsed": true
   },
   "outputs": [],
   "source": [
    "def csr_idf(matrix, copy=False, **kargs):\n",
    "    r\"\"\" Scale a CSR matrix by idf. \n",
    "    Returns scaling factors as dict. If copy is True, \n",
    "    returns scaled matrix and scaling factors.\n",
    "    \"\"\"\n",
    "    if copy is True:\n",
    "        matrix = matrix.copy()\n",
    "    nrows = matrix.shape[0]\n",
    "    nnz = matrix.nnz\n",
    "    ind, val, ptr = matrix.indices, matrix.data, matrix.indptr\n",
    "    # document frequency\n",
    "    df = defaultdict(int)\n",
    "    for i in ind:\n",
    "        df[i] += 1\n",
    "    # inverse document frequency\n",
    "    for k,v in df.items():\n",
    "        df[k] = np.log(nrows / float(v))  ## df turns to idf - reusing memory\n",
    "    # scale by idf\n",
    "    for i in range(0, nnz):\n",
    "        val[i] *= df[ind[i]]\n",
    "        \n",
    "    return df if copy is False else matrix"
   ]
  },
  {
   "cell_type": "code",
   "execution_count": 17,
   "metadata": {
    "collapsed": true
   },
   "outputs": [],
   "source": [
    "def csr_l2normalize(matrix, copy=False, **kargs):\n",
    "    r\"\"\" Normalize the rows of a CSR matrix by their L-2 norm. \n",
    "    If copy is True, returns a copy of the normalized matrix.\n",
    "    \"\"\"\n",
    "    if copy is True:\n",
    "        matrix = matrix.copy()\n",
    "    nrows = matrix.shape[0]\n",
    "    nnz = matrix.nnz\n",
    "    ind, val, ptr = matrix.indices, matrix.data, matrix.indptr\n",
    "    # normalize\n",
    "    for i in range(nrows):\n",
    "        rsum = 0.0    \n",
    "        for j in range(ptr[i], ptr[i+1]):\n",
    "            rsum += val[j]**2\n",
    "        if rsum == 0.0:\n",
    "            continue  # do not normalize empty rows\n",
    "        rsum = float(1.0/np.sqrt(rsum))\n",
    "        for j in range(ptr[i], ptr[i+1]):\n",
    "            val[j] *= rsum\n",
    "            \n",
    "    if copy is True:\n",
    "        return matrix"
   ]
  },
  {
   "cell_type": "code",
   "execution_count": 18,
   "metadata": {
    "collapsed": true
   },
   "outputs": [],
   "source": [
    "def initialCentroids(matrix):\n",
    "    matrixShuffled = shuffle(matrix, random_state=0)\n",
    "    return matrixShuffled[:2,:]"
   ]
  },
  {
   "cell_type": "code",
   "execution_count": 19,
   "metadata": {
    "collapsed": true
   },
   "outputs": [],
   "source": [
    "def similarity(matrix, centroids):\n",
    "    similarities = matrix.dot(centroids.T)\n",
    "    return similarities"
   ]
  },
  {
   "cell_type": "code",
   "execution_count": 20,
   "metadata": {
    "collapsed": true
   },
   "outputs": [],
   "source": [
    "def findClusters(matrix, centroids):\n",
    "    \n",
    "    clusterA = list()\n",
    "    clusterB = list()\n",
    "    \n",
    "    similarityMatrix = similarity(matrix, centroids)\n",
    "    \n",
    "    for index in range(similarityMatrix.shape[0]):\n",
    "        similarityRow = similarityMatrix[index]\n",
    "        \n",
    "        #Sort the index of the matrix in ascending order of value and get the index of the last element\n",
    "        #This index will be the cluster that the row in input matrix will belong to\n",
    "        similaritySorted = np.argsort(similarityRow)[-1]\n",
    "        \n",
    "        if similaritySorted == 0:\n",
    "            clusterA.append(index)\n",
    "        else:\n",
    "            clusterB.append(index)\n",
    "        \n",
    "    return clusterA, clusterB"
   ]
  },
  {
   "cell_type": "code",
   "execution_count": 21,
   "metadata": {
    "collapsed": true
   },
   "outputs": [],
   "source": [
    "def recalculateCentroid(matrix, clusters):\n",
    "    centroids = list()\n",
    "    \n",
    "    for i in range(0,2):\n",
    "        cluster = matrix[clusters[i],:]\n",
    "        clusterMean = cluster.mean(0)\n",
    "        centroids.append(clusterMean)\n",
    "        \n",
    "    centroids_array = np.asarray(centroids)\n",
    "    \n",
    "    return centroids_array"
   ]
  },
  {
   "cell_type": "code",
   "execution_count": 22,
   "metadata": {
    "collapsed": true
   },
   "outputs": [],
   "source": [
    "def kmeans(matrix, numberOfIterations):\n",
    "    \n",
    "    centroids = initialCentroids(matrix)\n",
    "    \n",
    "    for _ in range(numberOfIterations):\n",
    "        \n",
    "        clusters = list()\n",
    "        \n",
    "        clusterA, clusterB = findClusters(matrix, centroids)\n",
    "        \n",
    "        if len(clusterA) > 1:\n",
    "            clusters.append(clusterA)\n",
    "        if len(clusterB) > 1:\n",
    "            clusters.append(clusterB)\n",
    "            \n",
    "        centroids = recalculateCentroid(matrix, clusters)\n",
    "        \n",
    "    return clusterA, clusterB"
   ]
  },
  {
   "cell_type": "code",
   "execution_count": 23,
   "metadata": {
    "collapsed": true
   },
   "outputs": [],
   "source": [
    "def calculateSSE(matrix, clusters):\n",
    "    \n",
    "    SSE_list = list()\n",
    "    SSE_array = []\n",
    "    \n",
    "    for cluster in clusters:\n",
    "        members = matrix[cluster,:]\n",
    "        SSE = np.sum(np.square(members - np.mean(members)))\n",
    "        SSE_list.append(SSE)\n",
    "        \n",
    "    SSE_array = np.asarray(SSE_list)\n",
    "    dropClusterIndex = np.argsort(SSE_array)[-1]\n",
    "            \n",
    "    return dropClusterIndex"
   ]
  },
  {
   "cell_type": "code",
   "execution_count": 24,
   "metadata": {
    "collapsed": true
   },
   "outputs": [],
   "source": [
    "def bisecting_kmeans(matrix, k, numberOfIterations):\n",
    "    \n",
    "    clusters = list()\n",
    "    \n",
    "    initialcluster = list()\n",
    "    for i in range(matrix.shape[0]):\n",
    "        initialcluster.append(i)\n",
    "    \n",
    "    clusters.append(initialcluster)\n",
    "    \n",
    "    while len(clusters) < k:\n",
    "\n",
    "        dropClusterIndex = calculateSSE(matrix, clusters)\n",
    "        droppedCluster = clusters[dropClusterIndex]\n",
    "        \n",
    "        clusterA, clusterB = kmeans(matrix[droppedCluster,:], numberOfIterations)\n",
    "        del clusters[dropClusterIndex]\n",
    "        \n",
    "        actualClusterA = list()\n",
    "        actualClusterB = list()\n",
    "        for index in clusterA:\n",
    "            actualClusterA.append(droppedCluster[index])\n",
    "            \n",
    "        for index in clusterB:\n",
    "            actualClusterB.append(droppedCluster[index])\n",
    "        \n",
    "        clusters.append(actualClusterA)\n",
    "        clusters.append(actualClusterB)\n",
    "    \n",
    "    labels = [0] * matrix.shape[0]\n",
    "\n",
    "    for index, cluster in enumerate(clusters):\n",
    "        for idx in cluster:\n",
    "            labels[idx] = index + 1\n",
    "    return labels"
   ]
  },
  {
   "cell_type": "code",
   "execution_count": 25,
   "metadata": {
    "collapsed": true
   },
   "outputs": [],
   "source": [
    "#Read CSR matrix from the input file\n",
    "csrMatrix = csr_read('train.dat', ftype=\"csr\", nidx=1)\n",
    "\n",
    "#Scale the CSR matrix by idf (Inverse Document Frequency)\n",
    "csrIDF = csr_idf(csrMatrix, copy=True)\n",
    "\n",
    "#Normalize the rows of a CSR matrix by their L-2 norm.\n",
    "csrL2Normalized = csr_l2normalize(csrIDF, copy=True)\n",
    "\n",
    "#Obtain a dense ndarray representation of the CSR matrix.\n",
    "denseMatrix = csrL2Normalized.toarray()"
   ]
  },
  {
   "cell_type": "code",
   "execution_count": 28,
   "metadata": {},
   "outputs": [
    {
     "name": "stdout",
     "output_type": "stream",
     "text": [
      "For K= 3 Calinski Harabaz Score is 63.080976\n",
      "For K= 5 Calinski Harabaz Score is 47.311063\n",
      "For K= 7 Calinski Harabaz Score is 46.035433\n",
      "For K= 9 Calinski Harabaz Score is 43.216868\n",
      "For K= 11 Calinski Harabaz Score is 38.217769\n",
      "For K= 13 Calinski Harabaz Score is 34.761864\n",
      "For K= 15 Calinski Harabaz Score is 34.206359\n",
      "For K= 17 Calinski Harabaz Score is 32.649491\n",
      "For K= 19 Calinski Harabaz Score is 30.837459\n",
      "For K= 21 Calinski Harabaz Score is 30.097737\n"
     ]
    }
   ],
   "source": [
    "kValues = list()\n",
    "scores = list()\n",
    "\n",
    "for k in range(3, 22, 2):\n",
    "    labels = bisecting_kmeans(denseMatrix, k, 10)\n",
    "    \n",
    "    if (k == 7):\n",
    "        # write result to output file\n",
    "        outputFile = open(\"output.dat\", \"w\")\n",
    "        for index in labels:\n",
    "            outputFile.write(str(index) +'\\n')\n",
    "        outputFile.close()\n",
    "\n",
    "    score = calinski_harabaz_score(denseMatrix, labels)\n",
    "    kValues.append(k)\n",
    "    scores.append(score)\n",
    "    \n",
    "    print (\"For K= %d Calinski Harabaz Score is %f\" %(k, score))"
   ]
  },
  {
   "cell_type": "code",
   "execution_count": 29,
   "metadata": {},
   "outputs": [
    {
     "data": {
      "image/png": "[encoded data removed]",
      "text/plain": [
       "<matplotlib.figure.Figure at 0xea46e80>"
      ]
     },
     "metadata": {},
     "output_type": "display_data"
    }
   ],
   "source": [
    "%matplotlib inline\n",
    "import matplotlib.pyplot as plt\n",
    "\n",
    "plt.plot(kValues, scores)\n",
    "plt.xticks(kValues, kValues)\n",
    "plt.xlabel('Number of Clusters k')\n",
    "plt.ylabel('Calinski and Harabaz Score')\n",
    "plt.title('Trend of Average Distance to Centroid/Diameter')\n",
    "plt.grid(linestyle='dotted')\n",
    "\n",
    "plt.savefig('plot.png')\n",
    "plt.show()"
   ]
  }
 ],
 "metadata": {
  "kernelspec": {
   "display_name": "Python 2",
   "language": "python",
   "name": "python2"
  },
  "language_info": {
   "codemirror_mode": {
    "name": "ipython",
    "version": 2
   },
   "file_extension": ".py",
   "mimetype": "text/x-python",
   "name": "python",
   "nbconvert_exporter": "python",
   "pygments_lexer": "ipython2",
   "version": "2.7.13"
  }
 },
 "nbformat": 4,
 "nbformat_minor": 2
}
